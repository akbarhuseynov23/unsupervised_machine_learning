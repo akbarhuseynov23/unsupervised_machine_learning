{
 "cells": [
  {
   "cell_type": "code",
   "execution_count": 4,
   "id": "dee03dd0-5246-47ef-bfbc-29ed5c87948f",
   "metadata": {},
   "outputs": [
    {
     "data": {
      "text/plain": [
       "'0.24.1'"
      ]
     },
     "execution_count": 4,
     "metadata": {},
     "output_type": "execute_result"
    }
   ],
   "source": [
    "import sklearn\n",
    "sklearn.__version__"
   ]
  },
  {
   "cell_type": "markdown",
   "id": "48a5aabf-0c03-47be-8e88-9d7f934801b0",
   "metadata": {},
   "source": [
    "## Data preparation"
   ]
  },
  {
   "cell_type": "code",
   "execution_count": 40,
   "id": "2f8562aa-2256-4413-9d47-fdf69eb3a53e",
   "metadata": {},
   "outputs": [],
   "source": [
    "import pandas as pd\n",
    "import numpy as np\n",
    "import matplotlib.pyplot as plt\n",
    "import seaborn as sns\n",
    "from sklearn.preprocessing import MinMaxScaler\n",
    "from sklearn.preprocessing import QuantileTransformer\n",
    "from sklearn.metrics import silhouette_score\n",
    "import spotipy\n",
    "from spotipy.oauth2 import SpotifyOAuth\n",
    "import json\n",
    "from api_keys import *"
   ]
  },
  {
   "cell_type": "code",
   "execution_count": 5,
   "id": "301a1739-f6d5-4516-8457-17fc85357241",
   "metadata": {},
   "outputs": [],
   "source": [
    "moosic = pd.read_csv(\"../data/big_df_audio_features.csv\")\n",
    "moosic.set_index([\"name\", \"artist\"], inplace=True)"
   ]
  },
  {
   "cell_type": "code",
   "execution_count": 6,
   "id": "f473cf4a-66ca-4bcb-a98d-4b464518fd0a",
   "metadata": {},
   "outputs": [
    {
     "data": {
      "text/plain": [
       "danceability        float64\n",
       "energy              float64\n",
       "key                   int64\n",
       "loudness            float64\n",
       "mode                  int64\n",
       "speechiness         float64\n",
       "acousticness        float64\n",
       "instrumentalness    float64\n",
       "liveness            float64\n",
       "valence             float64\n",
       "tempo               float64\n",
       "duration_ms           int64\n",
       "time_signature        int64\n",
       "dtype: object"
      ]
     },
     "execution_count": 6,
     "metadata": {},
     "output_type": "execute_result"
    }
   ],
   "source": [
    "#moosic.info()\n",
    "moosic.dtypes"
   ]
  },
  {
   "cell_type": "code",
   "execution_count": 7,
   "id": "da9e466f-30b8-4376-861b-c1c418431777",
   "metadata": {},
   "outputs": [
    {
     "data": {
      "text/plain": [
       "danceability        0\n",
       "energy              0\n",
       "key                 0\n",
       "loudness            0\n",
       "mode                0\n",
       "speechiness         0\n",
       "acousticness        0\n",
       "instrumentalness    0\n",
       "liveness            0\n",
       "valence             0\n",
       "tempo               0\n",
       "duration_ms         0\n",
       "time_signature      0\n",
       "dtype: int64"
      ]
     },
     "execution_count": 7,
     "metadata": {},
     "output_type": "execute_result"
    }
   ],
   "source": [
    "moosic.isnull().sum()"
   ]
  },
  {
   "cell_type": "code",
   "execution_count": 8,
   "id": "4708ae58-c802-4dbe-b830-11249205c488",
   "metadata": {},
   "outputs": [],
   "source": [
    "moosic.drop(columns=[\"duration_ms\", \"key\", \"time_signature\", \"loudness\", \"speechiness\", \"liveness\"], inplace=True)"
   ]
  },
  {
   "cell_type": "code",
   "execution_count": 9,
   "id": "94abf565-75be-46f1-9834-580d31251ac8",
   "metadata": {},
   "outputs": [
    {
     "data": {
      "text/html": [
       "<div>\n",
       "<style scoped>\n",
       "    .dataframe tbody tr th:only-of-type {\n",
       "        vertical-align: middle;\n",
       "    }\n",
       "\n",
       "    .dataframe tbody tr th {\n",
       "        vertical-align: top;\n",
       "    }\n",
       "\n",
       "    .dataframe thead th {\n",
       "        text-align: right;\n",
       "    }\n",
       "</style>\n",
       "<table border=\"1\" class=\"dataframe\">\n",
       "  <thead>\n",
       "    <tr style=\"text-align: right;\">\n",
       "      <th></th>\n",
       "      <th></th>\n",
       "      <th>danceability</th>\n",
       "      <th>energy</th>\n",
       "      <th>mode</th>\n",
       "      <th>acousticness</th>\n",
       "      <th>instrumentalness</th>\n",
       "      <th>valence</th>\n",
       "      <th>tempo</th>\n",
       "    </tr>\n",
       "    <tr>\n",
       "      <th>name</th>\n",
       "      <th>artist</th>\n",
       "      <th></th>\n",
       "      <th></th>\n",
       "      <th></th>\n",
       "      <th></th>\n",
       "      <th></th>\n",
       "      <th></th>\n",
       "      <th></th>\n",
       "    </tr>\n",
       "  </thead>\n",
       "  <tbody>\n",
       "    <tr>\n",
       "      <th>Se Eu Quiser Falar Com Deus</th>\n",
       "      <th>Gilberto Gil</th>\n",
       "      <td>0.658</td>\n",
       "      <td>0.259</td>\n",
       "      <td>0</td>\n",
       "      <td>0.694</td>\n",
       "      <td>0.000059</td>\n",
       "      <td>0.306</td>\n",
       "      <td>110.376</td>\n",
       "    </tr>\n",
       "    <tr>\n",
       "      <th>Saudade De Bahia</th>\n",
       "      <th>Antônio Carlos Jobim</th>\n",
       "      <td>0.742</td>\n",
       "      <td>0.399</td>\n",
       "      <td>1</td>\n",
       "      <td>0.217</td>\n",
       "      <td>0.000002</td>\n",
       "      <td>0.693</td>\n",
       "      <td>125.039</td>\n",
       "    </tr>\n",
       "    <tr>\n",
       "      <th>Canta Canta, Minha Gente</th>\n",
       "      <th>Martinho Da Vila</th>\n",
       "      <td>0.851</td>\n",
       "      <td>0.730</td>\n",
       "      <td>1</td>\n",
       "      <td>0.453</td>\n",
       "      <td>0.000063</td>\n",
       "      <td>0.905</td>\n",
       "      <td>93.698</td>\n",
       "    </tr>\n",
       "  </tbody>\n",
       "</table>\n",
       "</div>"
      ],
      "text/plain": [
       "                                                  danceability  energy  mode  \\\n",
       "name                        artist                                             \n",
       "Se Eu Quiser Falar Com Deus Gilberto Gil                 0.658   0.259     0   \n",
       "Saudade De Bahia            Antônio Carlos Jobim         0.742   0.399     1   \n",
       "Canta Canta, Minha Gente    Martinho Da Vila             0.851   0.730     1   \n",
       "\n",
       "                                                  acousticness  \\\n",
       "name                        artist                               \n",
       "Se Eu Quiser Falar Com Deus Gilberto Gil                 0.694   \n",
       "Saudade De Bahia            Antônio Carlos Jobim         0.217   \n",
       "Canta Canta, Minha Gente    Martinho Da Vila             0.453   \n",
       "\n",
       "                                                  instrumentalness  valence  \\\n",
       "name                        artist                                            \n",
       "Se Eu Quiser Falar Com Deus Gilberto Gil                  0.000059    0.306   \n",
       "Saudade De Bahia            Antônio Carlos Jobim          0.000002    0.693   \n",
       "Canta Canta, Minha Gente    Martinho Da Vila              0.000063    0.905   \n",
       "\n",
       "                                                    tempo  \n",
       "name                        artist                         \n",
       "Se Eu Quiser Falar Com Deus Gilberto Gil          110.376  \n",
       "Saudade De Bahia            Antônio Carlos Jobim  125.039  \n",
       "Canta Canta, Minha Gente    Martinho Da Vila       93.698  "
      ]
     },
     "execution_count": 9,
     "metadata": {},
     "output_type": "execute_result"
    }
   ],
   "source": [
    "moosic.head(3)"
   ]
  },
  {
   "cell_type": "code",
   "execution_count": 10,
   "id": "0d3b987f-f3e1-42a9-99f5-ba9401ba3d6f",
   "metadata": {},
   "outputs": [],
   "source": [
    "columns = ['danceability', 'energy', 'mode', 'acousticness', 'instrumentalness', 'valence', 'tempo']\n",
    "\n",
    "moosic_sample = moosic.filter(columns)"
   ]
  },
  {
   "cell_type": "markdown",
   "id": "0827e232-65a9-42d8-8c5d-3a395bb9ff35",
   "metadata": {},
   "source": [
    "## Modelling"
   ]
  },
  {
   "cell_type": "markdown",
   "id": "38603cf1-e8e7-4388-9525-60a47a56d498",
   "metadata": {},
   "source": [
    "### MinMaxScaler"
   ]
  },
  {
   "cell_type": "code",
   "execution_count": 9,
   "id": "ad3c4bbe-6277-44eb-9be0-0d30be873950",
   "metadata": {},
   "outputs": [
    {
     "data": {
      "text/html": [
       "<div>\n",
       "<style scoped>\n",
       "    .dataframe tbody tr th:only-of-type {\n",
       "        vertical-align: middle;\n",
       "    }\n",
       "\n",
       "    .dataframe tbody tr th {\n",
       "        vertical-align: top;\n",
       "    }\n",
       "\n",
       "    .dataframe thead th {\n",
       "        text-align: right;\n",
       "    }\n",
       "</style>\n",
       "<table border=\"1\" class=\"dataframe\">\n",
       "  <thead>\n",
       "    <tr style=\"text-align: right;\">\n",
       "      <th></th>\n",
       "      <th></th>\n",
       "      <th>danceability</th>\n",
       "      <th>energy</th>\n",
       "      <th>mode</th>\n",
       "      <th>acousticness</th>\n",
       "      <th>instrumentalness</th>\n",
       "      <th>valence</th>\n",
       "      <th>tempo</th>\n",
       "    </tr>\n",
       "    <tr>\n",
       "      <th>name</th>\n",
       "      <th>artist</th>\n",
       "      <th></th>\n",
       "      <th></th>\n",
       "      <th></th>\n",
       "      <th></th>\n",
       "      <th></th>\n",
       "      <th></th>\n",
       "      <th></th>\n",
       "    </tr>\n",
       "  </thead>\n",
       "  <tbody>\n",
       "    <tr>\n",
       "      <th>Se Eu Quiser Falar Com Deus</th>\n",
       "      <th>Gilberto Gil</th>\n",
       "      <td>0.680455</td>\n",
       "      <td>0.259</td>\n",
       "      <td>0.0</td>\n",
       "      <td>0.696787</td>\n",
       "      <td>0.000060</td>\n",
       "      <td>0.310660</td>\n",
       "      <td>0.515800</td>\n",
       "    </tr>\n",
       "    <tr>\n",
       "      <th>Saudade De Bahia</th>\n",
       "      <th>Antônio Carlos Jobim</th>\n",
       "      <td>0.767322</td>\n",
       "      <td>0.399</td>\n",
       "      <td>1.0</td>\n",
       "      <td>0.217871</td>\n",
       "      <td>0.000002</td>\n",
       "      <td>0.703553</td>\n",
       "      <td>0.584322</td>\n",
       "    </tr>\n",
       "    <tr>\n",
       "      <th>Canta Canta, Minha Gente</th>\n",
       "      <th>Martinho Da Vila</th>\n",
       "      <td>0.880041</td>\n",
       "      <td>0.730</td>\n",
       "      <td>1.0</td>\n",
       "      <td>0.454819</td>\n",
       "      <td>0.000064</td>\n",
       "      <td>0.918782</td>\n",
       "      <td>0.437862</td>\n",
       "    </tr>\n",
       "  </tbody>\n",
       "</table>\n",
       "</div>"
      ],
      "text/plain": [
       "                                                  danceability  energy  mode  \\\n",
       "name                        artist                                             \n",
       "Se Eu Quiser Falar Com Deus Gilberto Gil              0.680455   0.259   0.0   \n",
       "Saudade De Bahia            Antônio Carlos Jobim      0.767322   0.399   1.0   \n",
       "Canta Canta, Minha Gente    Martinho Da Vila          0.880041   0.730   1.0   \n",
       "\n",
       "                                                  acousticness  \\\n",
       "name                        artist                               \n",
       "Se Eu Quiser Falar Com Deus Gilberto Gil              0.696787   \n",
       "Saudade De Bahia            Antônio Carlos Jobim      0.217871   \n",
       "Canta Canta, Minha Gente    Martinho Da Vila          0.454819   \n",
       "\n",
       "                                                  instrumentalness   valence  \\\n",
       "name                        artist                                             \n",
       "Se Eu Quiser Falar Com Deus Gilberto Gil                  0.000060  0.310660   \n",
       "Saudade De Bahia            Antônio Carlos Jobim          0.000002  0.703553   \n",
       "Canta Canta, Minha Gente    Martinho Da Vila              0.000064  0.918782   \n",
       "\n",
       "                                                     tempo  \n",
       "name                        artist                          \n",
       "Se Eu Quiser Falar Com Deus Gilberto Gil          0.515800  \n",
       "Saudade De Bahia            Antônio Carlos Jobim  0.584322  \n",
       "Canta Canta, Minha Gente    Martinho Da Vila      0.437862  "
      ]
     },
     "execution_count": 9,
     "metadata": {},
     "output_type": "execute_result"
    }
   ],
   "source": [
    "minmax = MinMaxScaler(feature_range=(0,1))\n",
    "minmax.fit(moosic_sample)\n",
    "minmax_scaled = minmax.transform(moosic_sample)\n",
    "minmax_scaled = pd.DataFrame(minmax_scaled, columns = moosic_sample.columns, index = moosic_sample.index)\n",
    "minmax_scaled.head(3)"
   ]
  },
  {
   "cell_type": "code",
   "execution_count": 10,
   "id": "b8e084b4-171a-4c90-b10f-1e95987588c9",
   "metadata": {
    "tags": []
   },
   "outputs": [
    {
     "data": {
      "image/png": "[encoded data removed]",
      "text/plain": [
       "<Figure size 576x360 with 1 Axes>"
      ]
     },
     "metadata": {
      "needs_background": "light"
     },
     "output_type": "display_data"
    }
   ],
   "source": [
    "plt.subplots(figsize=(8, 5))\n",
    "sns.boxplot(data=minmax_scaled.loc[:, moosic.columns])\n",
    "plt.title('MinMaxScaler')\n",
    "plt.show()"
   ]
  },
  {
   "cell_type": "markdown",
   "id": "1395d257-4ad8-4b21-86cb-8d78dbd17d0f",
   "metadata": {},
   "source": [
    "### QuantileTransformer"
   ]
  },
  {
   "cell_type": "code",
   "execution_count": 11,
   "id": "7c64c912-0aa0-4aea-a0c0-3ae98cc66d18",
   "metadata": {},
   "outputs": [
    {
     "data": {
      "text/html": [
       "<div>\n",
       "<style scoped>\n",
       "    .dataframe tbody tr th:only-of-type {\n",
       "        vertical-align: middle;\n",
       "    }\n",
       "\n",
       "    .dataframe tbody tr th {\n",
       "        vertical-align: top;\n",
       "    }\n",
       "\n",
       "    .dataframe thead th {\n",
       "        text-align: right;\n",
       "    }\n",
       "</style>\n",
       "<table border=\"1\" class=\"dataframe\">\n",
       "  <thead>\n",
       "    <tr style=\"text-align: right;\">\n",
       "      <th></th>\n",
       "      <th></th>\n",
       "      <th>danceability</th>\n",
       "      <th>energy</th>\n",
       "      <th>mode</th>\n",
       "      <th>acousticness</th>\n",
       "      <th>instrumentalness</th>\n",
       "      <th>valence</th>\n",
       "      <th>tempo</th>\n",
       "    </tr>\n",
       "    <tr>\n",
       "      <th>name</th>\n",
       "      <th>artist</th>\n",
       "      <th></th>\n",
       "      <th></th>\n",
       "      <th></th>\n",
       "      <th></th>\n",
       "      <th></th>\n",
       "      <th></th>\n",
       "      <th></th>\n",
       "    </tr>\n",
       "  </thead>\n",
       "  <tbody>\n",
       "    <tr>\n",
       "      <th>Se Eu Quiser Falar Com Deus</th>\n",
       "      <th>Gilberto Gil</th>\n",
       "      <td>0.698653</td>\n",
       "      <td>0.146112</td>\n",
       "      <td>0.0</td>\n",
       "      <td>0.799678</td>\n",
       "      <td>0.346072</td>\n",
       "      <td>0.377289</td>\n",
       "      <td>0.409931</td>\n",
       "    </tr>\n",
       "    <tr>\n",
       "      <th>Saudade De Bahia</th>\n",
       "      <th>Antônio Carlos Jobim</th>\n",
       "      <td>0.834094</td>\n",
       "      <td>0.205309</td>\n",
       "      <td>1.0</td>\n",
       "      <td>0.603567</td>\n",
       "      <td>0.239486</td>\n",
       "      <td>0.760192</td>\n",
       "      <td>0.603869</td>\n",
       "    </tr>\n",
       "    <tr>\n",
       "      <th>Canta Canta, Minha Gente</th>\n",
       "      <th>Martinho Da Vila</th>\n",
       "      <td>0.931805</td>\n",
       "      <td>0.489451</td>\n",
       "      <td>1.0</td>\n",
       "      <td>0.715513</td>\n",
       "      <td>0.347357</td>\n",
       "      <td>0.942280</td>\n",
       "      <td>0.209462</td>\n",
       "    </tr>\n",
       "  </tbody>\n",
       "</table>\n",
       "</div>"
      ],
      "text/plain": [
       "                                                  danceability    energy  \\\n",
       "name                        artist                                         \n",
       "Se Eu Quiser Falar Com Deus Gilberto Gil              0.698653  0.146112   \n",
       "Saudade De Bahia            Antônio Carlos Jobim      0.834094  0.205309   \n",
       "Canta Canta, Minha Gente    Martinho Da Vila          0.931805  0.489451   \n",
       "\n",
       "                                                  mode  acousticness  \\\n",
       "name                        artist                                     \n",
       "Se Eu Quiser Falar Com Deus Gilberto Gil           0.0      0.799678   \n",
       "Saudade De Bahia            Antônio Carlos Jobim   1.0      0.603567   \n",
       "Canta Canta, Minha Gente    Martinho Da Vila       1.0      0.715513   \n",
       "\n",
       "                                                  instrumentalness   valence  \\\n",
       "name                        artist                                             \n",
       "Se Eu Quiser Falar Com Deus Gilberto Gil                  0.346072  0.377289   \n",
       "Saudade De Bahia            Antônio Carlos Jobim          0.239486  0.760192   \n",
       "Canta Canta, Minha Gente    Martinho Da Vila              0.347357  0.942280   \n",
       "\n",
       "                                                     tempo  \n",
       "name                        artist                          \n",
       "Se Eu Quiser Falar Com Deus Gilberto Gil          0.409931  \n",
       "Saudade De Bahia            Antônio Carlos Jobim  0.603869  \n",
       "Canta Canta, Minha Gente    Martinho Da Vila      0.209462  "
      ]
     },
     "execution_count": 11,
     "metadata": {},
     "output_type": "execute_result"
    }
   ],
   "source": [
    "qtl_transformer = QuantileTransformer(n_quantiles=10, random_state=0)\n",
    "qtl_scaled = qtl_transformer .fit_transform(moosic)\n",
    "qtl_scaled = pd.DataFrame(qtl_scaled, columns = moosic.columns, index = moosic.index)\n",
    "qtl_scaled.head(3)"
   ]
  },
  {
   "cell_type": "code",
   "execution_count": 12,
   "id": "599feb1e-5e6f-427f-9119-4d012d4bb489",
   "metadata": {},
   "outputs": [
    {
     "data": {
      "image/png": "[encoded data removed]",
      "text/plain": [
       "<Figure size 576x360 with 1 Axes>"
      ]
     },
     "metadata": {
      "needs_background": "light"
     },
     "output_type": "display_data"
    }
   ],
   "source": [
    "plt.subplots(figsize=(8, 5))\n",
    "sns.boxplot(data=qtl_scaled.loc[:, moosic.columns])\n",
    "plt.title('QuantileTransformer')\n",
    "plt.show()"
   ]
  },
  {
   "cell_type": "code",
   "execution_count": 13,
   "id": "acd313bc-6c14-41d3-8169-7250a236801e",
   "metadata": {},
   "outputs": [],
   "source": [
    "from sklearn.cluster import KMeans\n",
    "moosic_kmeans = KMeans(n_clusters=6).fit(qtl_scaled)"
   ]
  },
  {
   "cell_type": "code",
   "execution_count": 14,
   "id": "c1b2fe35-e357-4ab7-a064-426e5df291d2",
   "metadata": {},
   "outputs": [],
   "source": [
    "centroids = pd.DataFrame(moosic_kmeans.cluster_centers_)\n",
    "centroids.columns = columns"
   ]
  },
  {
   "cell_type": "markdown",
   "id": "2b69fa59-a8e4-45cd-958b-5968f16d0d8c",
   "metadata": {},
   "source": [
    "#### Using inertia"
   ]
  },
  {
   "cell_type": "code",
   "execution_count": 15,
   "id": "02443b32-fc6f-40ed-a723-d3b4e2553ae9",
   "metadata": {},
   "outputs": [
    {
     "data": {
      "text/plain": [
       "1256.7373764998174"
      ]
     },
     "execution_count": 15,
     "metadata": {},
     "output_type": "execute_result"
    }
   ],
   "source": [
    "moosic_kmeans.inertia_"
   ]
  },
  {
   "cell_type": "code",
   "execution_count": 16,
   "id": "9c2ffe57-3ed8-43f0-8f95-6707669049a6",
   "metadata": {},
   "outputs": [
    {
     "data": {
      "image/png": "[encoded data removed]",
      "text/plain": [
       "<Figure size 864x432 with 1 Axes>"
      ]
     },
     "metadata": {
      "needs_background": "light"
     },
     "output_type": "display_data"
    }
   ],
   "source": [
    "inertia = []\n",
    "\n",
    "for i in range(1, 30): \n",
    "    inertia.append(KMeans(n_clusters=i).fit(qtl_scaled).inertia_)\n",
    "\n",
    "fig, ax = plt.subplots(figsize=(12, 6))\n",
    "plt.title(f'Inertia evolution from 1 cluster to 30 cluster')\n",
    "sns.lineplot(x=range(1, 30), y=inertia)\n",
    "sns.scatterplot(x=range(1, 30), y=inertia)\n",
    "plt.xlabel('Number of clusters')\n",
    "plt.ylabel('Inertia')\n",
    "plt.show()"
   ]
  },
  {
   "cell_type": "markdown",
   "id": "d34ff370-e39e-4c77-8dea-9b1aca85df7e",
   "metadata": {},
   "source": [
    "#### Silhouette Score"
   ]
  },
  {
   "cell_type": "code",
   "execution_count": 17,
   "id": "83c110d5-ec40-47ed-b9f4-9a687e149b51",
   "metadata": {},
   "outputs": [
    {
     "data": {
      "text/plain": [
       "0.3543388150196881"
      ]
     },
     "execution_count": 17,
     "metadata": {},
     "output_type": "execute_result"
    }
   ],
   "source": [
    "silhouette_score(qtl_scaled, moosic_kmeans.labels_)"
   ]
  },
  {
   "cell_type": "markdown",
   "id": "cbb58d36-84bf-4f3e-8f94-98d1cd4b09c4",
   "metadata": {},
   "source": [
    "The score of 0 means that clusters are overlapping. Close to 1 means clusters are well apart from each other and clearly distinguished. Close - 1 means that data belonging to clusters may be wrong/incorrect.\n",
    "\n",
    "* n_clusters=2 Silhouette Score equals 0.2877785954173735\n",
    "* n_clusters=6 Silhouette Score equals 0.3540878705254389\n",
    "* n_clusters=8 Silhouette Score equals 0.2576549874246494\n",
    "* n_clusters=50 Silhouette Score equals 0.17572244831973088"
   ]
  },
  {
   "cell_type": "code",
   "execution_count": 18,
   "id": "88f03944-c29c-4a4c-b9b1-c3c87fcc1fef",
   "metadata": {},
   "outputs": [
    {
     "data": {
      "image/png": "[encoded data removed]",
      "text/plain": [
       "<Figure size 864x432 with 1 Axes>"
      ]
     },
     "metadata": {
      "needs_background": "light"
     },
     "output_type": "display_data"
    }
   ],
   "source": [
    "sil_score = []\n",
    "\n",
    "for i in range(2, 30): \n",
    "    labels = KMeans(n_clusters=i).fit(qtl_scaled).labels_\n",
    "    sil_score.append(silhouette_score(qtl_scaled, labels))\n",
    "\n",
    "fig, ax = plt.subplots(figsize=(12, 6))\n",
    "plt.title(f'Silhouette score evolution from 2 cluster to 30 clusters')\n",
    "sns.lineplot(x=range(2, 30), y=sil_score)\n",
    "sns.scatterplot(x=range(2, 30), y=sil_score)\n",
    "plt.show()"
   ]
  },
  {
   "cell_type": "code",
   "execution_count": 32,
   "id": "67d178d3-7c68-409e-9086-c7aa93498e83",
   "metadata": {},
   "outputs": [
    {
     "data": {
      "text/html": [
       "<div>\n",
       "<style scoped>\n",
       "    .dataframe tbody tr th:only-of-type {\n",
       "        vertical-align: middle;\n",
       "    }\n",
       "\n",
       "    .dataframe tbody tr th {\n",
       "        vertical-align: top;\n",
       "    }\n",
       "\n",
       "    .dataframe thead th {\n",
       "        text-align: right;\n",
       "    }\n",
       "</style>\n",
       "<table border=\"1\" class=\"dataframe\">\n",
       "  <thead>\n",
       "    <tr style=\"text-align: right;\">\n",
       "      <th></th>\n",
       "      <th>number</th>\n",
       "      <th>score</th>\n",
       "    </tr>\n",
       "  </thead>\n",
       "  <tbody>\n",
       "    <tr>\n",
       "      <th>0</th>\n",
       "      <td>2</td>\n",
       "      <td>0.318222</td>\n",
       "    </tr>\n",
       "    <tr>\n",
       "      <th>1</th>\n",
       "      <td>3</td>\n",
       "      <td>0.290014</td>\n",
       "    </tr>\n",
       "    <tr>\n",
       "      <th>2</th>\n",
       "      <td>4</td>\n",
       "      <td>0.328581</td>\n",
       "    </tr>\n",
       "    <tr>\n",
       "      <th>3</th>\n",
       "      <td>5</td>\n",
       "      <td>0.341170</td>\n",
       "    </tr>\n",
       "    <tr>\n",
       "      <th>4</th>\n",
       "      <td>6</td>\n",
       "      <td>0.354088</td>\n",
       "    </tr>\n",
       "    <tr>\n",
       "      <th>...</th>\n",
       "      <td>...</td>\n",
       "      <td>...</td>\n",
       "    </tr>\n",
       "    <tr>\n",
       "      <th>93</th>\n",
       "      <td>95</td>\n",
       "      <td>0.179669</td>\n",
       "    </tr>\n",
       "    <tr>\n",
       "      <th>94</th>\n",
       "      <td>96</td>\n",
       "      <td>0.178556</td>\n",
       "    </tr>\n",
       "    <tr>\n",
       "      <th>95</th>\n",
       "      <td>97</td>\n",
       "      <td>0.181123</td>\n",
       "    </tr>\n",
       "    <tr>\n",
       "      <th>96</th>\n",
       "      <td>98</td>\n",
       "      <td>0.182252</td>\n",
       "    </tr>\n",
       "    <tr>\n",
       "      <th>97</th>\n",
       "      <td>99</td>\n",
       "      <td>0.180975</td>\n",
       "    </tr>\n",
       "  </tbody>\n",
       "</table>\n",
       "<p>98 rows × 2 columns</p>\n",
       "</div>"
      ],
      "text/plain": [
       "    number     score\n",
       "0        2  0.318222\n",
       "1        3  0.290014\n",
       "2        4  0.328581\n",
       "3        5  0.341170\n",
       "4        6  0.354088\n",
       "..     ...       ...\n",
       "93      95  0.179669\n",
       "94      96  0.178556\n",
       "95      97  0.181123\n",
       "96      98  0.182252\n",
       "97      99  0.180975\n",
       "\n",
       "[98 rows x 2 columns]"
      ]
     },
     "execution_count": 32,
     "metadata": {},
     "output_type": "execute_result"
    }
   ],
   "source": [
    "# Check highest silhouette_score given number of clusters in range (2, 100)\n",
    "\n",
    "list_of_silouetthes = {'number':[],'score':[]}\n",
    "for i in range(2,100):\n",
    "    \n",
    "    moosic_kmeans = KMeans(n_clusters=i).fit(qtl_scaled)\n",
    "    list_of_silouetthes['score'].append(silhouette_score(qtl_scaled, moosic_kmeans.labels_))\n",
    "    list_of_silouetthes['number'].append(i)\n",
    "\n",
    "\n",
    "    \n",
    "sil = pd.DataFrame.from_dict(list_of_silouetthes)\n",
    "sil"
   ]
  },
  {
   "cell_type": "code",
   "execution_count": null,
   "id": "38380904-6eb3-4781-8181-8cb436618526",
   "metadata": {},
   "outputs": [],
   "source": [
    "sil.score.max()"
   ]
  },
  {
   "cell_type": "markdown",
   "id": "d9aec799-eaca-4404-b456-795c567c16d1",
   "metadata": {},
   "source": [
    "from range of 2-100 cluster number, n_clusters=6 has the highest Silhouette Score which equals to 0.30466612911155566. According to visualisation result of the Silhouette score I will consider 13 as the best number of the clusters. "
   ]
  },
  {
   "cell_type": "code",
   "execution_count": 12,
   "id": "4a95cd0d-577c-4804-aa0f-28cf2235bd2c",
   "metadata": {},
   "outputs": [],
   "source": [
    "from sklearn.cluster import KMeans\n",
    "moosic_kmeans = KMeans(n_clusters=13).fit(qtl_scaled)"
   ]
  },
  {
   "cell_type": "code",
   "execution_count": 13,
   "id": "b7ce833d-6f2b-433c-b73c-c74c2a6a9296",
   "metadata": {},
   "outputs": [
    {
     "data": {
      "text/html": [
       "<div>\n",
       "<style scoped>\n",
       "    .dataframe tbody tr th:only-of-type {\n",
       "        vertical-align: middle;\n",
       "    }\n",
       "\n",
       "    .dataframe tbody tr th {\n",
       "        vertical-align: top;\n",
       "    }\n",
       "\n",
       "    .dataframe thead th {\n",
       "        text-align: right;\n",
       "    }\n",
       "</style>\n",
       "<table border=\"1\" class=\"dataframe\">\n",
       "  <thead>\n",
       "    <tr style=\"text-align: right;\">\n",
       "      <th></th>\n",
       "      <th>danceability</th>\n",
       "      <th>energy</th>\n",
       "      <th>mode</th>\n",
       "      <th>acousticness</th>\n",
       "      <th>instrumentalness</th>\n",
       "      <th>valence</th>\n",
       "      <th>tempo</th>\n",
       "    </tr>\n",
       "  </thead>\n",
       "  <tbody>\n",
       "    <tr>\n",
       "      <th>0</th>\n",
       "      <td>0.607300</td>\n",
       "      <td>0.664266</td>\n",
       "      <td>1.000000e+00</td>\n",
       "      <td>0.332557</td>\n",
       "      <td>0.519883</td>\n",
       "      <td>0.609141</td>\n",
       "      <td>0.677215</td>\n",
       "    </tr>\n",
       "    <tr>\n",
       "      <th>1</th>\n",
       "      <td>0.632808</td>\n",
       "      <td>0.459037</td>\n",
       "      <td>8.881784e-16</td>\n",
       "      <td>0.534459</td>\n",
       "      <td>0.078107</td>\n",
       "      <td>0.591742</td>\n",
       "      <td>0.748496</td>\n",
       "    </tr>\n",
       "    <tr>\n",
       "      <th>2</th>\n",
       "      <td>0.662991</td>\n",
       "      <td>0.663993</td>\n",
       "      <td>-9.992007e-16</td>\n",
       "      <td>0.359479</td>\n",
       "      <td>0.527934</td>\n",
       "      <td>0.613149</td>\n",
       "      <td>0.665229</td>\n",
       "    </tr>\n",
       "    <tr>\n",
       "      <th>3</th>\n",
       "      <td>0.761487</td>\n",
       "      <td>0.499511</td>\n",
       "      <td>1.000000e+00</td>\n",
       "      <td>0.532413</td>\n",
       "      <td>0.094200</td>\n",
       "      <td>0.733663</td>\n",
       "      <td>0.271198</td>\n",
       "    </tr>\n",
       "    <tr>\n",
       "      <th>4</th>\n",
       "      <td>0.223756</td>\n",
       "      <td>0.811291</td>\n",
       "      <td>-1.998401e-15</td>\n",
       "      <td>0.119512</td>\n",
       "      <td>0.731176</td>\n",
       "      <td>0.265678</td>\n",
       "      <td>0.531433</td>\n",
       "    </tr>\n",
       "    <tr>\n",
       "      <th>5</th>\n",
       "      <td>0.194739</td>\n",
       "      <td>0.815328</td>\n",
       "      <td>1.000000e+00</td>\n",
       "      <td>0.111219</td>\n",
       "      <td>0.738869</td>\n",
       "      <td>0.270994</td>\n",
       "      <td>0.297141</td>\n",
       "    </tr>\n",
       "    <tr>\n",
       "      <th>6</th>\n",
       "      <td>0.456703</td>\n",
       "      <td>0.256893</td>\n",
       "      <td>1.000000e+00</td>\n",
       "      <td>0.703610</td>\n",
       "      <td>0.181928</td>\n",
       "      <td>0.396604</td>\n",
       "      <td>0.501536</td>\n",
       "    </tr>\n",
       "    <tr>\n",
       "      <th>7</th>\n",
       "      <td>0.309452</td>\n",
       "      <td>0.100077</td>\n",
       "      <td>-9.992007e-16</td>\n",
       "      <td>0.901481</td>\n",
       "      <td>0.792515</td>\n",
       "      <td>0.253379</td>\n",
       "      <td>0.382950</td>\n",
       "    </tr>\n",
       "    <tr>\n",
       "      <th>8</th>\n",
       "      <td>0.240338</td>\n",
       "      <td>0.078897</td>\n",
       "      <td>1.000000e+00</td>\n",
       "      <td>0.934956</td>\n",
       "      <td>0.817477</td>\n",
       "      <td>0.182771</td>\n",
       "      <td>0.370858</td>\n",
       "    </tr>\n",
       "    <tr>\n",
       "      <th>9</th>\n",
       "      <td>0.644021</td>\n",
       "      <td>0.512807</td>\n",
       "      <td>1.000000e+00</td>\n",
       "      <td>0.554669</td>\n",
       "      <td>0.093230</td>\n",
       "      <td>0.766880</td>\n",
       "      <td>0.785840</td>\n",
       "    </tr>\n",
       "    <tr>\n",
       "      <th>10</th>\n",
       "      <td>0.796567</td>\n",
       "      <td>0.452907</td>\n",
       "      <td>-3.330669e-16</td>\n",
       "      <td>0.567773</td>\n",
       "      <td>0.202318</td>\n",
       "      <td>0.725529</td>\n",
       "      <td>0.287062</td>\n",
       "    </tr>\n",
       "    <tr>\n",
       "      <th>11</th>\n",
       "      <td>0.743724</td>\n",
       "      <td>0.323607</td>\n",
       "      <td>1.000000e+00</td>\n",
       "      <td>0.679679</td>\n",
       "      <td>0.505629</td>\n",
       "      <td>0.774880</td>\n",
       "      <td>0.434523</td>\n",
       "    </tr>\n",
       "    <tr>\n",
       "      <th>12</th>\n",
       "      <td>0.196724</td>\n",
       "      <td>0.821695</td>\n",
       "      <td>1.000000e+00</td>\n",
       "      <td>0.113155</td>\n",
       "      <td>0.735932</td>\n",
       "      <td>0.256716</td>\n",
       "      <td>0.793326</td>\n",
       "    </tr>\n",
       "  </tbody>\n",
       "</table>\n",
       "</div>"
      ],
      "text/plain": [
       "    danceability    energy          mode  acousticness  instrumentalness  \\\n",
       "0       0.607300  0.664266  1.000000e+00      0.332557          0.519883   \n",
       "1       0.632808  0.459037  8.881784e-16      0.534459          0.078107   \n",
       "2       0.662991  0.663993 -9.992007e-16      0.359479          0.527934   \n",
       "3       0.761487  0.499511  1.000000e+00      0.532413          0.094200   \n",
       "4       0.223756  0.811291 -1.998401e-15      0.119512          0.731176   \n",
       "5       0.194739  0.815328  1.000000e+00      0.111219          0.738869   \n",
       "6       0.456703  0.256893  1.000000e+00      0.703610          0.181928   \n",
       "7       0.309452  0.100077 -9.992007e-16      0.901481          0.792515   \n",
       "8       0.240338  0.078897  1.000000e+00      0.934956          0.817477   \n",
       "9       0.644021  0.512807  1.000000e+00      0.554669          0.093230   \n",
       "10      0.796567  0.452907 -3.330669e-16      0.567773          0.202318   \n",
       "11      0.743724  0.323607  1.000000e+00      0.679679          0.505629   \n",
       "12      0.196724  0.821695  1.000000e+00      0.113155          0.735932   \n",
       "\n",
       "     valence     tempo  \n",
       "0   0.609141  0.677215  \n",
       "1   0.591742  0.748496  \n",
       "2   0.613149  0.665229  \n",
       "3   0.733663  0.271198  \n",
       "4   0.265678  0.531433  \n",
       "5   0.270994  0.297141  \n",
       "6   0.396604  0.501536  \n",
       "7   0.253379  0.382950  \n",
       "8   0.182771  0.370858  \n",
       "9   0.766880  0.785840  \n",
       "10  0.725529  0.287062  \n",
       "11  0.774880  0.434523  \n",
       "12  0.256716  0.793326  "
      ]
     },
     "execution_count": 13,
     "metadata": {},
     "output_type": "execute_result"
    }
   ],
   "source": [
    "centroids = pd.DataFrame(moosic_kmeans.cluster_centers_)\n",
    "centroids.columns = columns\n",
    "centroids"
   ]
  },
  {
   "cell_type": "code",
   "execution_count": 14,
   "id": "39b12fe7-a84d-4010-bc55-2d937681f99b",
   "metadata": {},
   "outputs": [],
   "source": [
    "clusters = moosic_kmeans.predict(qtl_scaled)"
   ]
  },
  {
   "cell_type": "code",
   "execution_count": 15,
   "id": "cde88414-da92-4842-8fd7-fb2b2e9b9358",
   "metadata": {},
   "outputs": [],
   "source": [
    "qtl_scaled[\"cluster\"] = clusters\n",
    "test_sample = qtl_scaled.groupby('cluster').sample(5)"
   ]
  },
  {
   "cell_type": "code",
   "execution_count": 16,
   "id": "d2be1763-78e9-4657-83c6-eee6106b619f",
   "metadata": {},
   "outputs": [],
   "source": [
    "centroid_dis = pd.DataFrame(data=moosic_kmeans.cluster_centers_, columns= qtl_scaled.drop(\"cluster\", axis=1).columns)"
   ]
  },
  {
   "cell_type": "code",
   "execution_count": 17,
   "id": "7b0a87fe-e5a4-4e09-9cad-68f07e0420af",
   "metadata": {},
   "outputs": [],
   "source": [
    "qtl_scaled['cluster'] = moosic_kmeans.labels_"
   ]
  },
  {
   "cell_type": "code",
   "execution_count": 18,
   "id": "34101e96-f2d0-4c25-a64f-9f97fb4c8e93",
   "metadata": {},
   "outputs": [],
   "source": [
    "cluster_0_songs = qtl_scaled.query('cluster == 0')"
   ]
  },
  {
   "cell_type": "code",
   "execution_count": 19,
   "id": "a55fc465-592e-4e97-b4e7-a0dea346e61d",
   "metadata": {},
   "outputs": [],
   "source": [
    "cluster_0_songs = cluster_0_songs.assign(distance = 0)"
   ]
  },
  {
   "cell_type": "code",
   "execution_count": 35,
   "id": "ff7a8361-1484-4a3f-b013-d6352ceb6742",
   "metadata": {},
   "outputs": [],
   "source": [
    "# Create a list of the playlists. Iterate 13 times, get through all clusters and get the distance between all clusters and data points and output 20 songs with the smallest values. \n",
    "\n",
    "list_of_playlists= []\n",
    "for i in range(13):\n",
    "    list_of_playlists.append(qtl_scaled.query('cluster == @i'))\n",
    "    list_of_playlists[i] = list_of_playlists[i].assign(distance=0)\n",
    "    for j, song in list_of_playlists[i].iterrows():\n",
    "        total = sum(((song.iloc[pos]- centroid_dis.iloc[1][pos])**2) for pos in range(qtl_scaled.shape[1]-3))**(1/2)\n",
    "        list_of_playlists[i].loc[j,'distance'] = total\n",
    "    list_of_playlists[i] = list_of_playlists[i].sort_values('distance').head(20)\n",
    "    list_of_playlists[i] = list_of_playlists[i].reset_index()"
   ]
  },
  {
   "cell_type": "code",
   "execution_count": 37,
   "id": "e1376c83-abc5-47c5-a1ac-e5431dbb54b0",
   "metadata": {},
   "outputs": [],
   "source": [
    "scope = 'playlist-modify-public'\n",
    "username = spotify_username\n",
    "#redirectUri = 'http://localhost:8888/callback'\n",
    "\n",
    "token = SpotifyOAuth(scope=scope, username=spotify_username, client_id=spotify_client_id, client_secret=spotify_client_secret, redirect_uri='http://localhost:8000/callback')\n",
    "spotifyObject = spotipy.Spotify(auth_manager = token)"
   ]
  },
  {
   "cell_type": "code",
   "execution_count": 38,
   "id": "d00e8b82-0eea-4423-ad3c-1940e145bc82",
   "metadata": {},
   "outputs": [],
   "source": [
    "for i, playlist in enumerate(list_of_playlists):\n",
    "    playlist_name = f'Playlist_cluster_{i}'\n",
    "    playlist_description= ''\n",
    "    playlist_id = spotifyObject.user_playlist_create(user=spotify_username ,name=playlist_name,public=True,description=playlist_description)['id']\n",
    "    list_of_songs = []\n",
    "    for index, song in playlist.iterrows():\n",
    "        result = spotifyObject.search(q=f\"{song['name']} artist:{song['artist']}\",type='track',limit=1)\n",
    "        try:\n",
    "            list_of_songs.append(result['tracks']['items'][0]['uri'])\n",
    "        except:\n",
    "            continue\n",
    "    spotifyObject.user_playlist_add_tracks(user=spotify_username, playlist_id=playlist_id, tracks=list_of_songs)"
   ]
  },
  {
   "cell_type": "code",
   "execution_count": null,
   "id": "8b371cb3-2c46-4073-9ca7-826269e5148b",
   "metadata": {},
   "outputs": [],
   "source": [
    "# Calculate distance between the centroids and data points\n",
    "\n",
    "# for i, song in cluster_0_songs.iterrows():\n",
    "#     total = sum(((song.iloc[pos]- centroid_dis.iloc[1][pos])**2) for pos in range(qtl_scaled.shape[1]-3))**(1/2)\n",
    "#     cluster_0_songs.loc[i,'distance'] = total\n",
    "\n",
    "# playlist_0 = cluster_0_songs.sort_values('distance').reset_index().head(20)\n",
    "# playlist_0"
   ]
  },
  {
   "cell_type": "code",
   "execution_count": 27,
   "id": "83bd9f71-11fc-43a5-a271-ecf3944cfb76",
   "metadata": {},
   "outputs": [],
   "source": [
    "# playlist_name = 'playlist_cluster_0'\n",
    "# playlist_description= ''\n",
    "# playlist_id = spotifyObject.user_playlist_create(user=spotify_username, name=playlist_name, public=True, description=playlist_description)['id']\n",
    "# list_of_songs = []\n",
    "# for index, song in playlist_0.iterrows():\n",
    "#     result = spotifyObject.search(q=f\"{song['name']} artist:{song['artist']}\",type='track',limit=1)\n",
    "#     try:\n",
    "#         list_of_songs.append(result['tracks']['items'][0]['uri'])\n",
    "#     except:\n",
    "#         continue\n",
    "        \n",
    "# spotifyObject.user_playlist_add_tracks(user=spotify_username, playlist_id=playlist_id, tracks=list_of_songs)"
   ]
  }
 ],
 "metadata": {
  "kernelspec": {
   "display_name": "Python 3",
   "language": "python",
   "name": "python3"
  },
  "language_info": {
   "codemirror_mode": {
    "name": "ipython",
    "version": 3
   },
   "file_extension": ".py",
   "mimetype": "text/x-python",
   "name": "python",
   "nbconvert_exporter": "python",
   "pygments_lexer": "ipython3",
   "version": "3.8.8"
  }
 },
 "nbformat": 4,
 "nbformat_minor": 5
}
