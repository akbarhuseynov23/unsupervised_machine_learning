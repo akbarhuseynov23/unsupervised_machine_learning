{
 "cells": [
  {
   "cell_type": "code",
   "execution_count": 1,
   "id": "dee03dd0-5246-47ef-bfbc-29ed5c87948f",
   "metadata": {},
   "outputs": [
    {
     "data": {
      "text/plain": [
       "'0.24.1'"
      ]
     },
     "execution_count": 1,
     "metadata": {},
     "output_type": "execute_result"
    }
   ],
   "source": [
    "import sklearn\n",
    "sklearn.__version__"
   ]
  },
  {
   "cell_type": "markdown",
   "id": "48a5aabf-0c03-47be-8e88-9d7f934801b0",
   "metadata": {},
   "source": [
    "## Data preparation"
   ]
  },
  {
   "cell_type": "code",
   "execution_count": 2,
   "id": "2f8562aa-2256-4413-9d47-fdf69eb3a53e",
   "metadata": {},
   "outputs": [],
   "source": [
    "import pandas as pd\n",
    "import numpy as np\n",
    "import matplotlib.pyplot as plt\n",
    "import seaborn as sns\n",
    "from sklearn.preprocessing import MinMaxScaler\n",
    "from sklearn.preprocessing import QuantileTransformer\n",
    "from sklearn.metrics import silhouette_score\n",
    "import spotipy\n",
    "from spotipy.oauth2 import SpotifyOAuth\n",
    "import json\n",
    "from api_keys import *"
   ]
  },
  {
   "cell_type": "code",
   "execution_count": 3,
   "id": "301a1739-f6d5-4516-8457-17fc85357241",
   "metadata": {},
   "outputs": [],
   "source": [
    "moosic = pd.read_csv(\"../data/big_df_audio_features.csv\")\n",
    "moosic.drop_duplicates(subset='name', inplace=True)\n",
    "moosic.set_index([\"name\", \"artist\"], inplace=True)"
   ]
  },
  {
   "cell_type": "code",
   "execution_count": 4,
   "id": "f473cf4a-66ca-4bcb-a98d-4b464518fd0a",
   "metadata": {},
   "outputs": [
    {
     "data": {
      "text/plain": [
       "danceability        float64\n",
       "energy              float64\n",
       "key                   int64\n",
       "loudness            float64\n",
       "mode                  int64\n",
       "speechiness         float64\n",
       "acousticness        float64\n",
       "instrumentalness    float64\n",
       "liveness            float64\n",
       "valence             float64\n",
       "tempo               float64\n",
       "duration_ms           int64\n",
       "time_signature        int64\n",
       "dtype: object"
      ]
     },
     "execution_count": 4,
     "metadata": {},
     "output_type": "execute_result"
    }
   ],
   "source": [
    "#moosic.info()\n",
    "moosic.dtypes"
   ]
  },
  {
   "cell_type": "code",
   "execution_count": 5,
   "id": "da9e466f-30b8-4376-861b-c1c418431777",
   "metadata": {},
   "outputs": [
    {
     "data": {
      "text/plain": [
       "danceability        0\n",
       "energy              0\n",
       "key                 0\n",
       "loudness            0\n",
       "mode                0\n",
       "speechiness         0\n",
       "acousticness        0\n",
       "instrumentalness    0\n",
       "liveness            0\n",
       "valence             0\n",
       "tempo               0\n",
       "duration_ms         0\n",
       "time_signature      0\n",
       "dtype: int64"
      ]
     },
     "execution_count": 5,
     "metadata": {},
     "output_type": "execute_result"
    }
   ],
   "source": [
    "moosic.isnull().sum()"
   ]
  },
  {
   "cell_type": "code",
   "execution_count": 6,
   "id": "4708ae58-c802-4dbe-b830-11249205c488",
   "metadata": {},
   "outputs": [],
   "source": [
    "moosic.drop(columns=[\"duration_ms\", \"key\", \"time_signature\", \"loudness\", 'mode', \"speechiness\", \"liveness\"], inplace=True)"
   ]
  },
  {
   "cell_type": "code",
   "execution_count": 7,
   "id": "94abf565-75be-46f1-9834-580d31251ac8",
   "metadata": {},
   "outputs": [
    {
     "data": {
      "text/html": [
       "<div>\n",
       "<style scoped>\n",
       "    .dataframe tbody tr th:only-of-type {\n",
       "        vertical-align: middle;\n",
       "    }\n",
       "\n",
       "    .dataframe tbody tr th {\n",
       "        vertical-align: top;\n",
       "    }\n",
       "\n",
       "    .dataframe thead th {\n",
       "        text-align: right;\n",
       "    }\n",
       "</style>\n",
       "<table border=\"1\" class=\"dataframe\">\n",
       "  <thead>\n",
       "    <tr style=\"text-align: right;\">\n",
       "      <th></th>\n",
       "      <th></th>\n",
       "      <th>danceability</th>\n",
       "      <th>energy</th>\n",
       "      <th>acousticness</th>\n",
       "      <th>instrumentalness</th>\n",
       "      <th>valence</th>\n",
       "      <th>tempo</th>\n",
       "    </tr>\n",
       "    <tr>\n",
       "      <th>name</th>\n",
       "      <th>artist</th>\n",
       "      <th></th>\n",
       "      <th></th>\n",
       "      <th></th>\n",
       "      <th></th>\n",
       "      <th></th>\n",
       "      <th></th>\n",
       "    </tr>\n",
       "  </thead>\n",
       "  <tbody>\n",
       "    <tr>\n",
       "      <th>Se Eu Quiser Falar Com Deus</th>\n",
       "      <th>Gilberto Gil</th>\n",
       "      <td>0.658</td>\n",
       "      <td>0.259</td>\n",
       "      <td>0.694</td>\n",
       "      <td>0.000059</td>\n",
       "      <td>0.306</td>\n",
       "      <td>110.376</td>\n",
       "    </tr>\n",
       "    <tr>\n",
       "      <th>Saudade De Bahia</th>\n",
       "      <th>Antônio Carlos Jobim</th>\n",
       "      <td>0.742</td>\n",
       "      <td>0.399</td>\n",
       "      <td>0.217</td>\n",
       "      <td>0.000002</td>\n",
       "      <td>0.693</td>\n",
       "      <td>125.039</td>\n",
       "    </tr>\n",
       "    <tr>\n",
       "      <th>Canta Canta, Minha Gente</th>\n",
       "      <th>Martinho Da Vila</th>\n",
       "      <td>0.851</td>\n",
       "      <td>0.730</td>\n",
       "      <td>0.453</td>\n",
       "      <td>0.000063</td>\n",
       "      <td>0.905</td>\n",
       "      <td>93.698</td>\n",
       "    </tr>\n",
       "  </tbody>\n",
       "</table>\n",
       "</div>"
      ],
      "text/plain": [
       "                                                  danceability  energy  \\\n",
       "name                        artist                                       \n",
       "Se Eu Quiser Falar Com Deus Gilberto Gil                 0.658   0.259   \n",
       "Saudade De Bahia            Antônio Carlos Jobim         0.742   0.399   \n",
       "Canta Canta, Minha Gente    Martinho Da Vila             0.851   0.730   \n",
       "\n",
       "                                                  acousticness  \\\n",
       "name                        artist                               \n",
       "Se Eu Quiser Falar Com Deus Gilberto Gil                 0.694   \n",
       "Saudade De Bahia            Antônio Carlos Jobim         0.217   \n",
       "Canta Canta, Minha Gente    Martinho Da Vila             0.453   \n",
       "\n",
       "                                                  instrumentalness  valence  \\\n",
       "name                        artist                                            \n",
       "Se Eu Quiser Falar Com Deus Gilberto Gil                  0.000059    0.306   \n",
       "Saudade De Bahia            Antônio Carlos Jobim          0.000002    0.693   \n",
       "Canta Canta, Minha Gente    Martinho Da Vila              0.000063    0.905   \n",
       "\n",
       "                                                    tempo  \n",
       "name                        artist                         \n",
       "Se Eu Quiser Falar Com Deus Gilberto Gil          110.376  \n",
       "Saudade De Bahia            Antônio Carlos Jobim  125.039  \n",
       "Canta Canta, Minha Gente    Martinho Da Vila       93.698  "
      ]
     },
     "execution_count": 7,
     "metadata": {},
     "output_type": "execute_result"
    }
   ],
   "source": [
    "moosic.head(3)"
   ]
  },
  {
   "cell_type": "code",
   "execution_count": 8,
   "id": "0d3b987f-f3e1-42a9-99f5-ba9401ba3d6f",
   "metadata": {},
   "outputs": [],
   "source": [
    "columns = ['danceability', 'energy', 'acousticness', 'instrumentalness', 'valence', 'tempo']\n",
    "\n",
    "moosic_sample = moosic.filter(columns)"
   ]
  },
  {
   "cell_type": "markdown",
   "id": "0827e232-65a9-42d8-8c5d-3a395bb9ff35",
   "metadata": {},
   "source": [
    "## Modelling"
   ]
  },
  {
   "cell_type": "markdown",
   "id": "38603cf1-e8e7-4388-9525-60a47a56d498",
   "metadata": {},
   "source": [
    "### MinMaxScaler"
   ]
  },
  {
   "cell_type": "code",
   "execution_count": 9,
   "id": "ad3c4bbe-6277-44eb-9be0-0d30be873950",
   "metadata": {},
   "outputs": [
    {
     "data": {
      "text/html": [
       "<div>\n",
       "<style scoped>\n",
       "    .dataframe tbody tr th:only-of-type {\n",
       "        vertical-align: middle;\n",
       "    }\n",
       "\n",
       "    .dataframe tbody tr th {\n",
       "        vertical-align: top;\n",
       "    }\n",
       "\n",
       "    .dataframe thead th {\n",
       "        text-align: right;\n",
       "    }\n",
       "</style>\n",
       "<table border=\"1\" class=\"dataframe\">\n",
       "  <thead>\n",
       "    <tr style=\"text-align: right;\">\n",
       "      <th></th>\n",
       "      <th></th>\n",
       "      <th>danceability</th>\n",
       "      <th>energy</th>\n",
       "      <th>acousticness</th>\n",
       "      <th>instrumentalness</th>\n",
       "      <th>valence</th>\n",
       "      <th>tempo</th>\n",
       "    </tr>\n",
       "    <tr>\n",
       "      <th>name</th>\n",
       "      <th>artist</th>\n",
       "      <th></th>\n",
       "      <th></th>\n",
       "      <th></th>\n",
       "      <th></th>\n",
       "      <th></th>\n",
       "      <th></th>\n",
       "    </tr>\n",
       "  </thead>\n",
       "  <tbody>\n",
       "    <tr>\n",
       "      <th>Se Eu Quiser Falar Com Deus</th>\n",
       "      <th>Gilberto Gil</th>\n",
       "      <td>0.680455</td>\n",
       "      <td>0.259</td>\n",
       "      <td>0.696787</td>\n",
       "      <td>0.000060</td>\n",
       "      <td>0.310660</td>\n",
       "      <td>0.515800</td>\n",
       "    </tr>\n",
       "    <tr>\n",
       "      <th>Saudade De Bahia</th>\n",
       "      <th>Antônio Carlos Jobim</th>\n",
       "      <td>0.767322</td>\n",
       "      <td>0.399</td>\n",
       "      <td>0.217871</td>\n",
       "      <td>0.000002</td>\n",
       "      <td>0.703553</td>\n",
       "      <td>0.584322</td>\n",
       "    </tr>\n",
       "    <tr>\n",
       "      <th>Canta Canta, Minha Gente</th>\n",
       "      <th>Martinho Da Vila</th>\n",
       "      <td>0.880041</td>\n",
       "      <td>0.730</td>\n",
       "      <td>0.454819</td>\n",
       "      <td>0.000064</td>\n",
       "      <td>0.918782</td>\n",
       "      <td>0.437862</td>\n",
       "    </tr>\n",
       "  </tbody>\n",
       "</table>\n",
       "</div>"
      ],
      "text/plain": [
       "                                                  danceability  energy  \\\n",
       "name                        artist                                       \n",
       "Se Eu Quiser Falar Com Deus Gilberto Gil              0.680455   0.259   \n",
       "Saudade De Bahia            Antônio Carlos Jobim      0.767322   0.399   \n",
       "Canta Canta, Minha Gente    Martinho Da Vila          0.880041   0.730   \n",
       "\n",
       "                                                  acousticness  \\\n",
       "name                        artist                               \n",
       "Se Eu Quiser Falar Com Deus Gilberto Gil              0.696787   \n",
       "Saudade De Bahia            Antônio Carlos Jobim      0.217871   \n",
       "Canta Canta, Minha Gente    Martinho Da Vila          0.454819   \n",
       "\n",
       "                                                  instrumentalness   valence  \\\n",
       "name                        artist                                             \n",
       "Se Eu Quiser Falar Com Deus Gilberto Gil                  0.000060  0.310660   \n",
       "Saudade De Bahia            Antônio Carlos Jobim          0.000002  0.703553   \n",
       "Canta Canta, Minha Gente    Martinho Da Vila              0.000064  0.918782   \n",
       "\n",
       "                                                     tempo  \n",
       "name                        artist                          \n",
       "Se Eu Quiser Falar Com Deus Gilberto Gil          0.515800  \n",
       "Saudade De Bahia            Antônio Carlos Jobim  0.584322  \n",
       "Canta Canta, Minha Gente    Martinho Da Vila      0.437862  "
      ]
     },
     "execution_count": 9,
     "metadata": {},
     "output_type": "execute_result"
    }
   ],
   "source": [
    "minmax = MinMaxScaler(feature_range=(0,1))\n",
    "minmax.fit(moosic_sample)\n",
    "minmax_scaled = minmax.transform(moosic_sample)\n",
    "minmax_scaled = pd.DataFrame(minmax_scaled, columns = moosic_sample.columns, index = moosic_sample.index)\n",
    "minmax_scaled.head(3)"
   ]
  },
  {
   "cell_type": "code",
   "execution_count": 10,
   "id": "b8e084b4-171a-4c90-b10f-1e95987588c9",
   "metadata": {
    "tags": []
   },
   "outputs": [
    {
     "data": {
      "image/png": "[encoded data removed]",
      "text/plain": [
       "<Figure size 576x360 with 1 Axes>"
      ]
     },
     "metadata": {
      "needs_background": "light"
     },
     "output_type": "display_data"
    }
   ],
   "source": [
    "plt.subplots(figsize=(8, 5))\n",
    "sns.boxplot(data=minmax_scaled.loc[:, moosic.columns])\n",
    "plt.title('MinMaxScaler')\n",
    "plt.show()"
   ]
  },
  {
   "cell_type": "markdown",
   "id": "1395d257-4ad8-4b21-86cb-8d78dbd17d0f",
   "metadata": {},
   "source": [
    "### QuantileTransformer"
   ]
  },
  {
   "cell_type": "code",
   "execution_count": 11,
   "id": "7c64c912-0aa0-4aea-a0c0-3ae98cc66d18",
   "metadata": {},
   "outputs": [
    {
     "data": {
      "text/html": [
       "<div>\n",
       "<style scoped>\n",
       "    .dataframe tbody tr th:only-of-type {\n",
       "        vertical-align: middle;\n",
       "    }\n",
       "\n",
       "    .dataframe tbody tr th {\n",
       "        vertical-align: top;\n",
       "    }\n",
       "\n",
       "    .dataframe thead th {\n",
       "        text-align: right;\n",
       "    }\n",
       "</style>\n",
       "<table border=\"1\" class=\"dataframe\">\n",
       "  <thead>\n",
       "    <tr style=\"text-align: right;\">\n",
       "      <th></th>\n",
       "      <th></th>\n",
       "      <th>danceability</th>\n",
       "      <th>energy</th>\n",
       "      <th>acousticness</th>\n",
       "      <th>instrumentalness</th>\n",
       "      <th>valence</th>\n",
       "      <th>tempo</th>\n",
       "    </tr>\n",
       "    <tr>\n",
       "      <th>name</th>\n",
       "      <th>artist</th>\n",
       "      <th></th>\n",
       "      <th></th>\n",
       "      <th></th>\n",
       "      <th></th>\n",
       "      <th></th>\n",
       "      <th></th>\n",
       "    </tr>\n",
       "  </thead>\n",
       "  <tbody>\n",
       "    <tr>\n",
       "      <th>Se Eu Quiser Falar Com Deus</th>\n",
       "      <th>Gilberto Gil</th>\n",
       "      <td>0.702020</td>\n",
       "      <td>0.144318</td>\n",
       "      <td>0.800508</td>\n",
       "      <td>0.343393</td>\n",
       "      <td>0.380952</td>\n",
       "      <td>0.411439</td>\n",
       "    </tr>\n",
       "    <tr>\n",
       "      <th>Saudade De Bahia</th>\n",
       "      <th>Antônio Carlos Jobim</th>\n",
       "      <td>0.836074</td>\n",
       "      <td>0.203167</td>\n",
       "      <td>0.604861</td>\n",
       "      <td>0.235875</td>\n",
       "      <td>0.762667</td>\n",
       "      <td>0.605786</td>\n",
       "    </tr>\n",
       "    <tr>\n",
       "      <th>Canta Canta, Minha Gente</th>\n",
       "      <th>Martinho Da Vila</th>\n",
       "      <td>0.932045</td>\n",
       "      <td>0.484225</td>\n",
       "      <td>0.716413</td>\n",
       "      <td>0.344482</td>\n",
       "      <td>0.942280</td>\n",
       "      <td>0.209747</td>\n",
       "    </tr>\n",
       "  </tbody>\n",
       "</table>\n",
       "</div>"
      ],
      "text/plain": [
       "                                                  danceability    energy  \\\n",
       "name                        artist                                         \n",
       "Se Eu Quiser Falar Com Deus Gilberto Gil              0.702020  0.144318   \n",
       "Saudade De Bahia            Antônio Carlos Jobim      0.836074  0.203167   \n",
       "Canta Canta, Minha Gente    Martinho Da Vila          0.932045  0.484225   \n",
       "\n",
       "                                                  acousticness  \\\n",
       "name                        artist                               \n",
       "Se Eu Quiser Falar Com Deus Gilberto Gil              0.800508   \n",
       "Saudade De Bahia            Antônio Carlos Jobim      0.604861   \n",
       "Canta Canta, Minha Gente    Martinho Da Vila          0.716413   \n",
       "\n",
       "                                                  instrumentalness   valence  \\\n",
       "name                        artist                                             \n",
       "Se Eu Quiser Falar Com Deus Gilberto Gil                  0.343393  0.380952   \n",
       "Saudade De Bahia            Antônio Carlos Jobim          0.235875  0.762667   \n",
       "Canta Canta, Minha Gente    Martinho Da Vila              0.344482  0.942280   \n",
       "\n",
       "                                                     tempo  \n",
       "name                        artist                          \n",
       "Se Eu Quiser Falar Com Deus Gilberto Gil          0.411439  \n",
       "Saudade De Bahia            Antônio Carlos Jobim  0.605786  \n",
       "Canta Canta, Minha Gente    Martinho Da Vila      0.209747  "
      ]
     },
     "execution_count": 11,
     "metadata": {},
     "output_type": "execute_result"
    }
   ],
   "source": [
    "qtl_transformer = QuantileTransformer(n_quantiles=10, random_state=0)\n",
    "qtl_scaled = qtl_transformer .fit_transform(moosic)\n",
    "qtl_scaled = pd.DataFrame(qtl_scaled, columns = moosic.columns, index = moosic.index)\n",
    "qtl_scaled.head(3)"
   ]
  },
  {
   "cell_type": "code",
   "execution_count": 12,
   "id": "599feb1e-5e6f-427f-9119-4d012d4bb489",
   "metadata": {},
   "outputs": [
    {
     "data": {
      "image/png": "[encoded data removed]",
      "text/plain": [
       "<Figure size 576x360 with 1 Axes>"
      ]
     },
     "metadata": {
      "needs_background": "light"
     },
     "output_type": "display_data"
    }
   ],
   "source": [
    "plt.subplots(figsize=(8, 5))\n",
    "sns.boxplot(data=qtl_scaled.loc[:, moosic.columns])\n",
    "plt.title('QuantileTransformer')\n",
    "plt.show()"
   ]
  },
  {
   "cell_type": "code",
   "execution_count": 13,
   "id": "acd313bc-6c14-41d3-8169-7250a236801e",
   "metadata": {},
   "outputs": [],
   "source": [
    "from sklearn.cluster import KMeans\n",
    "moosic_kmeans = KMeans(n_clusters=13, random_state = 123).fit(qtl_scaled)"
   ]
  },
  {
   "cell_type": "code",
   "execution_count": 14,
   "id": "c1b2fe35-e357-4ab7-a064-426e5df291d2",
   "metadata": {},
   "outputs": [],
   "source": [
    "centroids = pd.DataFrame(moosic_kmeans.cluster_centers_)\n",
    "centroids.columns = columns"
   ]
  },
  {
   "cell_type": "markdown",
   "id": "2b69fa59-a8e4-45cd-958b-5968f16d0d8c",
   "metadata": {},
   "source": [
    "#### Using inertia"
   ]
  },
  {
   "cell_type": "code",
   "execution_count": 15,
   "id": "02443b32-fc6f-40ed-a723-d3b4e2553ae9",
   "metadata": {},
   "outputs": [
    {
     "data": {
      "text/plain": [
       "598.9408203032694"
      ]
     },
     "execution_count": 15,
     "metadata": {},
     "output_type": "execute_result"
    }
   ],
   "source": [
    "moosic_kmeans.inertia_"
   ]
  },
  {
   "cell_type": "code",
   "execution_count": 16,
   "id": "9c2ffe57-3ed8-43f0-8f95-6707669049a6",
   "metadata": {},
   "outputs": [
    {
     "data": {
      "image/png": "[encoded data removed]",
      "text/plain": [
       "<Figure size 576x432 with 1 Axes>"
      ]
     },
     "metadata": {
      "needs_background": "light"
     },
     "output_type": "display_data"
    }
   ],
   "source": [
    "inertia = []\n",
    "\n",
    "for i in range(2, 30): \n",
    "    inertia.append(KMeans(n_clusters=i, random_state = 123).fit(qtl_scaled).inertia_)\n",
    "\n",
    "fig, ax = plt.subplots(figsize=(8, 6))\n",
    "plt.title(f'Inertia evolution from 2 cluster to 30 cluster')\n",
    "sns.lineplot(x=range(2, 30), y=inertia)\n",
    "sns.scatterplot(x=range(2, 30), y=inertia)\n",
    "plt.xlabel('Number of clusters')\n",
    "plt.ylabel('Inertia')\n",
    "plt.show()"
   ]
  },
  {
   "cell_type": "markdown",
   "id": "d34ff370-e39e-4c77-8dea-9b1aca85df7e",
   "metadata": {},
   "source": [
    "#### Silhouette Score"
   ]
  },
  {
   "cell_type": "code",
   "execution_count": 17,
   "id": "83c110d5-ec40-47ed-b9f4-9a687e149b51",
   "metadata": {},
   "outputs": [
    {
     "data": {
      "text/plain": [
       "0.2304603732856943"
      ]
     },
     "execution_count": 17,
     "metadata": {},
     "output_type": "execute_result"
    }
   ],
   "source": [
    "silhouette_score(qtl_scaled, moosic_kmeans.labels_)"
   ]
  },
  {
   "cell_type": "markdown",
   "id": "cbb58d36-84bf-4f3e-8f94-98d1cd4b09c4",
   "metadata": {},
   "source": [
    "The score of 0 means that clusters are overlapping. Close to 1 means clusters are well apart from each other and clearly distinguished. Close - 1 means that data belonging to clusters may be wrong/incorrect."
   ]
  },
  {
   "cell_type": "code",
   "execution_count": 20,
   "id": "88f03944-c29c-4a4c-b9b1-c3c87fcc1fef",
   "metadata": {},
   "outputs": [
    {
     "data": {
      "image/png": "[encoded data removed]",
      "text/plain": [
       "<Figure size 576x432 with 1 Axes>"
      ]
     },
     "metadata": {
      "needs_background": "light"
     },
     "output_type": "display_data"
    }
   ],
   "source": [
    "sil_score = []\n",
    "\n",
    "for i in range(2, 30): \n",
    "    labels = KMeans(n_clusters=i, random_state = 123).fit(qtl_scaled).labels_\n",
    "    sil_score.append(silhouette_score(qtl_scaled, labels))\n",
    "\n",
    "fig, ax = plt.subplots(figsize=(8, 6))\n",
    "plt.title(f'Silhouette score evolution from 2 cluster to 30 clusters')\n",
    "sns.lineplot(x=range(2, 30), y=sil_score)\n",
    "sns.scatterplot(x=range(2, 30), y=sil_score)\n",
    "plt.show()"
   ]
  },
  {
   "cell_type": "code",
   "execution_count": 19,
   "id": "67d178d3-7c68-409e-9086-c7aa93498e83",
   "metadata": {},
   "outputs": [
    {
     "data": {
      "text/html": [
       "<div>\n",
       "<style scoped>\n",
       "    .dataframe tbody tr th:only-of-type {\n",
       "        vertical-align: middle;\n",
       "    }\n",
       "\n",
       "    .dataframe tbody tr th {\n",
       "        vertical-align: top;\n",
       "    }\n",
       "\n",
       "    .dataframe thead th {\n",
       "        text-align: right;\n",
       "    }\n",
       "</style>\n",
       "<table border=\"1\" class=\"dataframe\">\n",
       "  <thead>\n",
       "    <tr style=\"text-align: right;\">\n",
       "      <th></th>\n",
       "      <th>number</th>\n",
       "      <th>score</th>\n",
       "    </tr>\n",
       "  </thead>\n",
       "  <tbody>\n",
       "    <tr>\n",
       "      <th>0</th>\n",
       "      <td>2</td>\n",
       "      <td>0.301297</td>\n",
       "    </tr>\n",
       "    <tr>\n",
       "      <th>1</th>\n",
       "      <td>3</td>\n",
       "      <td>0.364155</td>\n",
       "    </tr>\n",
       "    <tr>\n",
       "      <th>2</th>\n",
       "      <td>4</td>\n",
       "      <td>0.286173</td>\n",
       "    </tr>\n",
       "    <tr>\n",
       "      <th>3</th>\n",
       "      <td>5</td>\n",
       "      <td>0.270998</td>\n",
       "    </tr>\n",
       "    <tr>\n",
       "      <th>4</th>\n",
       "      <td>6</td>\n",
       "      <td>0.243736</td>\n",
       "    </tr>\n",
       "    <tr>\n",
       "      <th>...</th>\n",
       "      <td>...</td>\n",
       "      <td>...</td>\n",
       "    </tr>\n",
       "    <tr>\n",
       "      <th>93</th>\n",
       "      <td>95</td>\n",
       "      <td>0.168326</td>\n",
       "    </tr>\n",
       "    <tr>\n",
       "      <th>94</th>\n",
       "      <td>96</td>\n",
       "      <td>0.167140</td>\n",
       "    </tr>\n",
       "    <tr>\n",
       "      <th>95</th>\n",
       "      <td>97</td>\n",
       "      <td>0.168794</td>\n",
       "    </tr>\n",
       "    <tr>\n",
       "      <th>96</th>\n",
       "      <td>98</td>\n",
       "      <td>0.168585</td>\n",
       "    </tr>\n",
       "    <tr>\n",
       "      <th>97</th>\n",
       "      <td>99</td>\n",
       "      <td>0.171294</td>\n",
       "    </tr>\n",
       "  </tbody>\n",
       "</table>\n",
       "<p>98 rows × 2 columns</p>\n",
       "</div>"
      ],
      "text/plain": [
       "    number     score\n",
       "0        2  0.301297\n",
       "1        3  0.364155\n",
       "2        4  0.286173\n",
       "3        5  0.270998\n",
       "4        6  0.243736\n",
       "..     ...       ...\n",
       "93      95  0.168326\n",
       "94      96  0.167140\n",
       "95      97  0.168794\n",
       "96      98  0.168585\n",
       "97      99  0.171294\n",
       "\n",
       "[98 rows x 2 columns]"
      ]
     },
     "execution_count": 19,
     "metadata": {},
     "output_type": "execute_result"
    }
   ],
   "source": [
    "# Check highest silhouette_score given number of clusters in range (2, 100)\n",
    "\n",
    "list_of_silouetthes = {'number':[],'score':[]}\n",
    "for i in range(2,100):\n",
    "    \n",
    "    moosic_kmeans = KMeans(n_clusters=i).fit(qtl_scaled)\n",
    "    list_of_silouetthes['score'].append(silhouette_score(qtl_scaled, moosic_kmeans.labels_))\n",
    "    list_of_silouetthes['number'].append(i)\n",
    "\n",
    "\n",
    "    \n",
    "sil = pd.DataFrame.from_dict(list_of_silouetthes)\n",
    "sil"
   ]
  },
  {
   "cell_type": "code",
   "execution_count": 20,
   "id": "38380904-6eb3-4781-8181-8cb436618526",
   "metadata": {},
   "outputs": [
    {
     "data": {
      "text/plain": [
       "0.3641548143219915"
      ]
     },
     "execution_count": 20,
     "metadata": {},
     "output_type": "execute_result"
    }
   ],
   "source": [
    "sil.score.max()"
   ]
  },
  {
   "cell_type": "code",
   "execution_count": 21,
   "id": "4a95cd0d-577c-4804-aa0f-28cf2235bd2c",
   "metadata": {},
   "outputs": [],
   "source": [
    "from sklearn.cluster import KMeans\n",
    "moosic_kmeans = KMeans(n_clusters=13, random_state=123).fit(qtl_scaled)"
   ]
  },
  {
   "cell_type": "code",
   "execution_count": 22,
   "id": "b7ce833d-6f2b-433c-b73c-c74c2a6a9296",
   "metadata": {},
   "outputs": [
    {
     "data": {
      "text/html": [
       "<div>\n",
       "<style scoped>\n",
       "    .dataframe tbody tr th:only-of-type {\n",
       "        vertical-align: middle;\n",
       "    }\n",
       "\n",
       "    .dataframe tbody tr th {\n",
       "        vertical-align: top;\n",
       "    }\n",
       "\n",
       "    .dataframe thead th {\n",
       "        text-align: right;\n",
       "    }\n",
       "</style>\n",
       "<table border=\"1\" class=\"dataframe\">\n",
       "  <thead>\n",
       "    <tr style=\"text-align: right;\">\n",
       "      <th></th>\n",
       "      <th>danceability</th>\n",
       "      <th>energy</th>\n",
       "      <th>acousticness</th>\n",
       "      <th>instrumentalness</th>\n",
       "      <th>valence</th>\n",
       "      <th>tempo</th>\n",
       "    </tr>\n",
       "  </thead>\n",
       "  <tbody>\n",
       "    <tr>\n",
       "      <th>0</th>\n",
       "      <td>0.186411</td>\n",
       "      <td>0.819824</td>\n",
       "      <td>0.108410</td>\n",
       "      <td>0.742116</td>\n",
       "      <td>0.270638</td>\n",
       "      <td>0.801272</td>\n",
       "    </tr>\n",
       "    <tr>\n",
       "      <th>1</th>\n",
       "      <td>0.820352</td>\n",
       "      <td>0.494849</td>\n",
       "      <td>0.529561</td>\n",
       "      <td>0.393979</td>\n",
       "      <td>0.801061</td>\n",
       "      <td>0.316381</td>\n",
       "    </tr>\n",
       "    <tr>\n",
       "      <th>2</th>\n",
       "      <td>0.285806</td>\n",
       "      <td>0.089146</td>\n",
       "      <td>0.921531</td>\n",
       "      <td>0.820878</td>\n",
       "      <td>0.216508</td>\n",
       "      <td>0.736710</td>\n",
       "    </tr>\n",
       "    <tr>\n",
       "      <th>3</th>\n",
       "      <td>0.561517</td>\n",
       "      <td>0.662498</td>\n",
       "      <td>0.383886</td>\n",
       "      <td>0.073115</td>\n",
       "      <td>0.570334</td>\n",
       "      <td>0.694745</td>\n",
       "    </tr>\n",
       "    <tr>\n",
       "      <th>4</th>\n",
       "      <td>0.631986</td>\n",
       "      <td>0.618960</td>\n",
       "      <td>0.308122</td>\n",
       "      <td>0.546101</td>\n",
       "      <td>0.324423</td>\n",
       "      <td>0.623965</td>\n",
       "    </tr>\n",
       "    <tr>\n",
       "      <th>5</th>\n",
       "      <td>0.205419</td>\n",
       "      <td>0.070649</td>\n",
       "      <td>0.934630</td>\n",
       "      <td>0.820707</td>\n",
       "      <td>0.154028</td>\n",
       "      <td>0.152619</td>\n",
       "    </tr>\n",
       "    <tr>\n",
       "      <th>6</th>\n",
       "      <td>0.807640</td>\n",
       "      <td>0.485193</td>\n",
       "      <td>0.548995</td>\n",
       "      <td>0.002621</td>\n",
       "      <td>0.740179</td>\n",
       "      <td>0.277307</td>\n",
       "    </tr>\n",
       "    <tr>\n",
       "      <th>7</th>\n",
       "      <td>0.716008</td>\n",
       "      <td>0.422638</td>\n",
       "      <td>0.626496</td>\n",
       "      <td>0.102527</td>\n",
       "      <td>0.844152</td>\n",
       "      <td>0.772548</td>\n",
       "    </tr>\n",
       "    <tr>\n",
       "      <th>8</th>\n",
       "      <td>0.488124</td>\n",
       "      <td>0.292609</td>\n",
       "      <td>0.667835</td>\n",
       "      <td>0.145795</td>\n",
       "      <td>0.426445</td>\n",
       "      <td>0.782817</td>\n",
       "    </tr>\n",
       "    <tr>\n",
       "      <th>9</th>\n",
       "      <td>0.493476</td>\n",
       "      <td>0.263417</td>\n",
       "      <td>0.707216</td>\n",
       "      <td>0.169504</td>\n",
       "      <td>0.455152</td>\n",
       "      <td>0.222349</td>\n",
       "    </tr>\n",
       "    <tr>\n",
       "      <th>10</th>\n",
       "      <td>0.198273</td>\n",
       "      <td>0.820400</td>\n",
       "      <td>0.112444</td>\n",
       "      <td>0.742634</td>\n",
       "      <td>0.274108</td>\n",
       "      <td>0.303855</td>\n",
       "    </tr>\n",
       "    <tr>\n",
       "      <th>11</th>\n",
       "      <td>0.657970</td>\n",
       "      <td>0.224477</td>\n",
       "      <td>0.787541</td>\n",
       "      <td>0.590505</td>\n",
       "      <td>0.673631</td>\n",
       "      <td>0.473597</td>\n",
       "    </tr>\n",
       "    <tr>\n",
       "      <th>12</th>\n",
       "      <td>0.633043</td>\n",
       "      <td>0.684010</td>\n",
       "      <td>0.369247</td>\n",
       "      <td>0.540919</td>\n",
       "      <td>0.776612</td>\n",
       "      <td>0.715454</td>\n",
       "    </tr>\n",
       "  </tbody>\n",
       "</table>\n",
       "</div>"
      ],
      "text/plain": [
       "    danceability    energy  acousticness  instrumentalness   valence     tempo\n",
       "0       0.186411  0.819824      0.108410          0.742116  0.270638  0.801272\n",
       "1       0.820352  0.494849      0.529561          0.393979  0.801061  0.316381\n",
       "2       0.285806  0.089146      0.921531          0.820878  0.216508  0.736710\n",
       "3       0.561517  0.662498      0.383886          0.073115  0.570334  0.694745\n",
       "4       0.631986  0.618960      0.308122          0.546101  0.324423  0.623965\n",
       "5       0.205419  0.070649      0.934630          0.820707  0.154028  0.152619\n",
       "6       0.807640  0.485193      0.548995          0.002621  0.740179  0.277307\n",
       "7       0.716008  0.422638      0.626496          0.102527  0.844152  0.772548\n",
       "8       0.488124  0.292609      0.667835          0.145795  0.426445  0.782817\n",
       "9       0.493476  0.263417      0.707216          0.169504  0.455152  0.222349\n",
       "10      0.198273  0.820400      0.112444          0.742634  0.274108  0.303855\n",
       "11      0.657970  0.224477      0.787541          0.590505  0.673631  0.473597\n",
       "12      0.633043  0.684010      0.369247          0.540919  0.776612  0.715454"
      ]
     },
     "execution_count": 22,
     "metadata": {},
     "output_type": "execute_result"
    }
   ],
   "source": [
    "centroids = pd.DataFrame(moosic_kmeans.cluster_centers_)\n",
    "centroids.columns = columns\n",
    "centroids"
   ]
  },
  {
   "cell_type": "code",
   "execution_count": 23,
   "id": "39b12fe7-a84d-4010-bc55-2d937681f99b",
   "metadata": {},
   "outputs": [],
   "source": [
    "clusters = moosic_kmeans.predict(qtl_scaled)"
   ]
  },
  {
   "cell_type": "code",
   "execution_count": 24,
   "id": "cde88414-da92-4842-8fd7-fb2b2e9b9358",
   "metadata": {},
   "outputs": [],
   "source": [
    "qtl_scaled[\"cluster\"] = clusters\n",
    "test_sample = qtl_scaled.groupby('cluster').sample(5)"
   ]
  },
  {
   "cell_type": "code",
   "execution_count": 25,
   "id": "d2be1763-78e9-4657-83c6-eee6106b619f",
   "metadata": {},
   "outputs": [],
   "source": [
    "centroid_dis = pd.DataFrame(data=moosic_kmeans.cluster_centers_, columns= qtl_scaled.drop(\"cluster\", axis=1).columns)"
   ]
  },
  {
   "cell_type": "code",
   "execution_count": 26,
   "id": "7b0a87fe-e5a4-4e09-9cad-68f07e0420af",
   "metadata": {},
   "outputs": [],
   "source": [
    "qtl_scaled['cluster'] = moosic_kmeans.labels_"
   ]
  },
  {
   "cell_type": "code",
   "execution_count": 27,
   "id": "34101e96-f2d0-4c25-a64f-9f97fb4c8e93",
   "metadata": {},
   "outputs": [],
   "source": [
    "cluster_0_songs = qtl_scaled.query('cluster == 0')"
   ]
  },
  {
   "cell_type": "code",
   "execution_count": 28,
   "id": "a55fc465-592e-4e97-b4e7-a0dea346e61d",
   "metadata": {},
   "outputs": [],
   "source": [
    "cluster_0_songs = cluster_0_songs.assign(distance = 0)"
   ]
  },
  {
   "cell_type": "code",
   "execution_count": 29,
   "id": "ff7a8361-1484-4a3f-b013-d6352ceb6742",
   "metadata": {},
   "outputs": [],
   "source": [
    "# Create a list of the playlists. Iterate 13 times, get through all clusters and get the distance between all clusters and data points and output 20 songs with the smallest values. \n",
    "\n",
    "list_of_playlists= []\n",
    "for i in range(13):\n",
    "    list_of_playlists.append(qtl_scaled.query('cluster == @i'))\n",
    "    list_of_playlists[i] = list_of_playlists[i].assign(distance=0)\n",
    "    for j, song in list_of_playlists[i].iterrows():\n",
    "        total = sum(((song.iloc[pos]- centroid_dis.iloc[1][pos])**2) for pos in range(qtl_scaled.shape[1]-3))**(1/2)\n",
    "        list_of_playlists[i].loc[j,'distance'] = total\n",
    "    list_of_playlists[i] = list_of_playlists[i].sort_values('distance').head(30)\n",
    "    list_of_playlists[i] = list_of_playlists[i].reset_index()"
   ]
  },
  {
   "cell_type": "code",
   "execution_count": 30,
   "id": "e1376c83-abc5-47c5-a1ac-e5431dbb54b0",
   "metadata": {},
   "outputs": [],
   "source": [
    "scope = 'playlist-modify-public'\n",
    "username = spotify_username\n",
    "#redirectUri = 'http://localhost:8888/callback'\n",
    "\n",
    "token = SpotifyOAuth(scope=scope, username=spotify_username, client_id=spotify_client_id, client_secret=spotify_client_secret, redirect_uri='http://localhost:8000/callback')\n",
    "spotifyObject = spotipy.Spotify(auth_manager = token)"
   ]
  },
  {
   "cell_type": "code",
   "execution_count": 31,
   "id": "d00e8b82-0eea-4423-ad3c-1940e145bc82",
   "metadata": {},
   "outputs": [],
   "source": [
    "for i, playlist in enumerate(list_of_playlists):\n",
    "    playlist_name = f'Playlist_cluster_{i}'\n",
    "    playlist_description= ''\n",
    "    playlist_id = spotifyObject.user_playlist_create(user=spotify_username ,name=playlist_name,public=True,description=playlist_description)['id']\n",
    "    list_of_songs = []\n",
    "    for index, song in playlist.iterrows():\n",
    "        result = spotifyObject.search(q=f\"{song['name']} artist:{song['artist']}\",type='track',limit=1)\n",
    "        try:\n",
    "            list_of_songs.append(result['tracks']['items'][0]['uri'])\n",
    "        except:\n",
    "            continue\n",
    "    spotifyObject.user_playlist_add_tracks(user=spotify_username, playlist_id=playlist_id, tracks=list_of_songs)"
   ]
  },
  {
   "cell_type": "code",
   "execution_count": null,
   "id": "8b371cb3-2c46-4073-9ca7-826269e5148b",
   "metadata": {},
   "outputs": [],
   "source": [
    "#Calculate the distance between the centroids and data points\n",
    "\n",
    "# for i, song in cluster_0_songs.iterrows():\n",
    "#     total = sum(((song.iloc[pos]- centroid_dis.iloc[1][pos])**2) for pos in range(qtl_scaled.shape[1]-3))**(1/2)\n",
    "#     cluster_0_songs.loc[i,'distance'] = total\n",
    "\n",
    "# playlist_0 = cluster_0_songs.sort_values('distance').reset_index().head(30)\n",
    "# playlist_0"
   ]
  },
  {
   "cell_type": "code",
   "execution_count": 27,
   "id": "83bd9f71-11fc-43a5-a271-ecf3944cfb76",
   "metadata": {},
   "outputs": [],
   "source": [
    "# playlist_name = 'playlist_cluster_0'\n",
    "# playlist_description= ''\n",
    "# playlist_id = spotifyObject.user_playlist_create(user=spotify_username, name=playlist_name, public=True, description=playlist_description)['id']\n",
    "# list_of_songs = []\n",
    "# for index, song in playlist_0.iterrows():\n",
    "#     result = spotifyObject.search(q=f\"{song['name']} artist:{song['artist']}\",type='track',limit=1)\n",
    "#     try:\n",
    "#         list_of_songs.append(result['tracks']['items'][0]['uri'])\n",
    "#     except:\n",
    "#         continue\n",
    "        \n",
    "# spotifyObject.user_playlist_add_tracks(user=spotify_username, playlist_id=playlist_id, tracks=list_of_songs)"
   ]
  },
  {
   "cell_type": "code",
   "execution_count": 35,
   "id": "75807d2f-af81-4da8-8480-6bc656a23288",
   "metadata": {},
   "outputs": [],
   "source": [
    "# Assign a label column\n",
    "qtl_scaled['label'] = qtl_scaled.cluster"
   ]
  },
  {
   "cell_type": "code",
   "execution_count": 39,
   "id": "b868af6a-a81f-4067-b5fc-36d7502a2407",
   "metadata": {},
   "outputs": [
    {
     "name": "stderr",
     "output_type": "stream",
     "text": [
      "<ipython-input-39-01e87417502d>:4: SettingWithCopyWarning: \n",
      "A value is trying to be set on a copy of a slice from a DataFrame\n",
      "\n",
      "See the caveats in the documentation: https://pandas.pydata.org/pandas-docs/stable/user_guide/indexing.html#returning-a-view-versus-a-copy\n",
      "  qtl_scaled.label[qtl_scaled.label==1] = 'POP'\n",
      "<ipython-input-39-01e87417502d>:5: SettingWithCopyWarning: \n",
      "A value is trying to be set on a copy of a slice from a DataFrame\n",
      "\n",
      "See the caveats in the documentation: https://pandas.pydata.org/pandas-docs/stable/user_guide/indexing.html#returning-a-view-versus-a-copy\n",
      "  qtl_scaled.label[qtl_scaled.label==10] = 'Death Metal'\n"
     ]
    },
    {
     "data": {
      "image/png": "[encoded data removed]",
      "text/plain": [
       "<Figure size 432x288 with 1 Axes>"
      ]
     },
     "metadata": {},
     "output_type": "display_data"
    }
   ],
   "source": [
    "from math import pi\n",
    "\n",
    "# Assign labels\n",
    "qtl_scaled.label[qtl_scaled.label==1] = 'POP'\n",
    "qtl_scaled.label[qtl_scaled.label==10] = 'Death Metal'\n",
    "\n",
    "# Find centroids\n",
    "cluster_positions = qtl_scaled.drop(['label'], axis=1).groupby(by=\"cluster\").mean() \n",
    "cluster_positions\n",
    "\n",
    "# ------- PART 1: Create background\n",
    "\n",
    "# number of variables\n",
    "categories = cluster_positions.columns.values.tolist()\n",
    "N = len(categories)\n",
    "\n",
    "# What will be the angle of each axis in the plot? (we divide the plot / number of variable)\n",
    "angles = [n / float(N) * 2 * pi for n in range(N)]\n",
    "angles += angles[:1]\n",
    "\n",
    "# Initialise the spider plot\n",
    "ax = plt.subplot(111, polar=True)\n",
    "\n",
    "# If you want the first axis to be on top:\n",
    "ax.set_theta_offset(pi / 2)\n",
    "ax.set_theta_direction(-1)\n",
    " \n",
    "# Draw one axe per variable + add labels\n",
    "plt.xticks(angles[:-1], categories)\n",
    " \n",
    "# Draw ylabels\n",
    "ax.set_rlabel_position(0)\n",
    "plt.yticks([0.2,0.4,0.6,0.8,1], [\"0.2\",\"0.4\",\"0.6\",\"0.8\",\"1\"], color=\"grey\", size=7)\n",
    "plt.ylim(0,1)\n",
    "\n",
    "# ------- PART 2: Add plots\n",
    " \n",
    "# Plot each individual = each line of the data\n",
    " \n",
    "\n",
    "# First genre\n",
    "label_1 = 'POP'\n",
    "label_cluster_1 = qtl_scaled[qtl_scaled.label==label_1].iloc[0].cluster\n",
    "\n",
    "values=cluster_positions.loc[label_cluster_1].values.flatten().tolist()\n",
    "values += values[:1]\n",
    "ax.plot(angles, values, linewidth=1, linestyle='solid', label=f\"{label_1}\")\n",
    "ax.fill(angles, values, alpha=0.1)\n",
    "\n",
    "# Second genre\n",
    "label_2 = 'Death Metal'\n",
    "label_cluster_2 = qtl_scaled[qtl_scaled.label==label_2].iloc[0].cluster\n",
    "\n",
    "values=cluster_positions.loc[label_cluster_2].values.flatten().tolist()\n",
    "values += values[:1]\n",
    "ax.plot(angles, values, linewidth=1, linestyle='solid', label=f\"{label_2}\")\n",
    "ax.fill(angles, values, alpha=0.1)\n",
    " \n",
    " \n",
    "# Add legend\n",
    "plt.legend(loc='upper right', bbox_to_anchor=(0.25, 0.1))\n",
    "\n",
    "# Show the graph\n",
    "plt.show()"
   ]
  },
  {
   "cell_type": "code",
   "execution_count": 40,
   "id": "198bc26a-0624-4882-9711-8f3b6ff99179",
   "metadata": {},
   "outputs": [
    {
     "data": {
      "text/plain": [
       "<Figure size 432x288 with 0 Axes>"
      ]
     },
     "metadata": {},
     "output_type": "display_data"
    }
   ],
   "source": [
    "plt.savefig('Metal_vs_classical')"
   ]
  }
 ],
 "metadata": {
  "kernelspec": {
   "display_name": "Python 3",
   "language": "python",
   "name": "python3"
  },
  "language_info": {
   "codemirror_mode": {
    "name": "ipython",
    "version": 3
   },
   "file_extension": ".py",
   "mimetype": "text/x-python",
   "name": "python",
   "nbconvert_exporter": "python",
   "pygments_lexer": "ipython3",
   "version": "3.8.8"
  }
 },
 "nbformat": 4,
 "nbformat_minor": 5
}
